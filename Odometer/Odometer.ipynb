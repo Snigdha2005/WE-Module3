{
  "nbformat": 4,
  "nbformat_minor": 0,
  "metadata": {
    "colab": {
      "provenance": []
    },
    "kernelspec": {
      "name": "python3",
      "display_name": "Python 3"
    },
    "language_info": {
      "name": "python"
    }
  },
  "cells": [
    {
      "cell_type": "code",
      "source": [
        "from itertools import combinations as nCr\n",
        "\n",
        "def readings(n : int) -> list[str]:\n",
        "    return [''.join(_) for _ in nCr(\"123456789\", n)]\n",
        "def all_readings() -> list[list[str]]:\n",
        "    return [[],[]] + [readings(_) for _ in range(2, 9)]\n",
        "#print(all_readings())\n",
        "\n",
        "READINGS = all_readings()\n",
        "\n",
        "def next_reading( n : int) -> int:\n",
        "    sn = str(n)\n",
        "    which = len(sn)\n",
        "    readings = READINGS[which]\n",
        "    position = readings.index(sn)\n",
        "    return int(readings[(position + 1) % len(readings)])\n",
        "\n",
        "def after( n : int, k : int = 1) -> int:\n",
        "    sn = str(n)\n",
        "    which = len(sn)\n",
        "    readings = READINGS[which]\n",
        "    position = readings.index(sn)\n",
        "    return int(readings[(position + k) % len(readings)])\n",
        "\n",
        "def prev_reading( n : int) -> int:\n",
        "    sn = str(n)\n",
        "    which = len(sn)\n",
        "    readings = READINGS[which]\n",
        "    position = readings.index(sn)\n",
        "    return int(readings[(position - 1) % len(readings)])\n",
        "\n",
        "def before( n : int, k : int = 1) -> int:\n",
        "    sn = str(n)\n",
        "    which = len(sn)\n",
        "    readings = READINGS[which]\n",
        "    position = readings.index(sn)\n",
        "    return int(readings[(position - k) % len(readings)])\n",
        "\n",
        "def distance( a_reading : int, b_reading : int) -> int:\n",
        "    if len(str(a_reading)) != len(str(b_reading)):\n",
        "        return -1\n",
        "    which = len(str(a_reading))\n",
        "    readings = READINGS[which]\n",
        "    a_position = readings.index(str(a_reading))\n",
        "    b_position = readings.index(str(b_reading))\n",
        "    if b_position >= a_position:\n",
        "        return b_position - a_position\n",
        "    return len(readings) - a_position + b_position\n",
        "\n",
        "def distance3(n : int, m : int) -> int:\n",
        "    d = 0\n",
        "    while str(n) != str(m):\n",
        "        n = next_reading(n)\n",
        "        d += 1\n",
        "    return d\n"
      ],
      "metadata": {
        "id": "UrEAJDj7BG2G"
      },
      "execution_count": 3,
      "outputs": []
    },
    {
      "cell_type": "code",
      "source": [
        "test_cases = [6789, 1234, 89, 23, 345, 267, 23456, 34589]"
      ],
      "metadata": {
        "id": "vtywnU82a7RZ"
      },
      "execution_count": 4,
      "outputs": []
    },
    {
      "cell_type": "code",
      "source": [
        "next_readings = [next_reading(i) for i in test_cases]\n",
        "print(next_readings)"
      ],
      "metadata": {
        "colab": {
          "base_uri": "https://localhost:8080/"
        },
        "id": "3gsfeeEZa-ur",
        "outputId": "e338c735-6521-40ff-ebe7-2b3891e7a037"
      },
      "execution_count": 5,
      "outputs": [
        {
          "output_type": "stream",
          "name": "stdout",
          "text": [
            "[1234, 1235, 12, 24, 346, 268, 23457, 34678]\n"
          ]
        }
      ]
    },
    {
      "cell_type": "code",
      "source": [
        "previous_readings = [prev_reading(i) for i in test_cases]\n",
        "print(previous_readings)"
      ],
      "metadata": {
        "colab": {
          "base_uri": "https://localhost:8080/"
        },
        "id": "oHh8hcwXbDmj",
        "outputId": "8264a8ff-2ab1-4063-ff1e-c5fba7a71aeb"
      },
      "execution_count": 6,
      "outputs": [
        {
          "output_type": "stream",
          "name": "stdout",
          "text": [
            "[5789, 6789, 79, 19, 289, 259, 16789, 34579]\n"
          ]
        }
      ]
    },
    {
      "cell_type": "code",
      "source": [
        "before_r = [before(test_cases[i], test_cases[i+1]) for i in range(0, len(test_cases), 2)]\n",
        "print(before_r)"
      ],
      "metadata": {
        "colab": {
          "base_uri": "https://localhost:8080/"
        },
        "id": "ejV2XWZlbJ4D",
        "outputId": "b225fa16-f152-47db-94a1-d07abfc59e84"
      },
      "execution_count": 7,
      "outputs": [
        {
          "output_type": "stream",
          "name": "stdout",
          "text": [
            "[1349, 27, 245, 12356]\n"
          ]
        }
      ]
    },
    {
      "cell_type": "code",
      "source": [
        "after_r = [after(test_cases[i], test_cases[i+1]) for i in range(0, len(test_cases), 2)]\n",
        "print(after_r)"
      ],
      "metadata": {
        "colab": {
          "base_uri": "https://localhost:8080/"
        },
        "id": "tNejuZ5dbOeu",
        "outputId": "95110967-d841-466e-fd45-b5070e669b99"
      },
      "execution_count": 8,
      "outputs": [
        {
          "output_type": "stream",
          "name": "stdout",
          "text": [
            "[3479, 46, 456, 12367]\n"
          ]
        }
      ]
    },
    {
      "cell_type": "code",
      "source": [
        "distance_r = [[distance(test_cases[i], test_cases[i+1]), distance(test_cases[i+1], test_cases[i])] for i in range(0, len(test_cases), 2)]\n",
        "print(distance_r)"
      ],
      "metadata": {
        "colab": {
          "base_uri": "https://localhost:8080/"
        },
        "id": "M4P9_lNAbSnJ",
        "outputId": "b0892c31-00cc-4f6b-f75b-690f1211f3c7"
      },
      "execution_count": 10,
      "outputs": [
        {
          "output_type": "stream",
          "name": "stdout",
          "text": [
            "[[1, 125], [9, 27], [78, 6], [40, 86]]\n"
          ]
        }
      ]
    }
  ]
}