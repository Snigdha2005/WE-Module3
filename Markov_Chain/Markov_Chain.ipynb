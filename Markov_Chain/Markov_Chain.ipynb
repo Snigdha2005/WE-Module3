{
  "nbformat": 4,
  "nbformat_minor": 0,
  "metadata": {
    "colab": {
      "provenance": []
    },
    "kernelspec": {
      "name": "python3",
      "display_name": "Python 3"
    },
    "language_info": {
      "name": "python"
    }
  },
  "cells": [
    {
      "cell_type": "code",
      "execution_count": 8,
      "metadata": {
        "colab": {
          "base_uri": "https://localhost:8080/"
        },
        "id": "4aBvFIscFISE",
        "outputId": "51413b17-2d94-46d5-abc7-5db12f7c40fa"
      },
      "outputs": [
        {
          "output_type": "stream",
          "name": "stdout",
          "text": [
            "The error given here why wrong check again                              \n"
          ]
        }
      ],
      "source": [
        "import random\n",
        "import re\n",
        "\n",
        "def generate(filename: str, start_words: list[str], chain_length: int, num_generated: int) -> str:\n",
        "    # Read text from file\n",
        "    with open(filename, 'r', encoding='utf-8') as file:\n",
        "        text = file.read()\n",
        "\n",
        "    # Clean the text by removing punctuation and converting to lowercase\n",
        "    text = re.sub(r'[^\\w\\s]', '', text).lower()\n",
        "\n",
        "    # Split the text into words\n",
        "    words = text.split()\n",
        "\n",
        "    # Create a dictionary to store transitions\n",
        "    transitions = {}\n",
        "\n",
        "    # Iterate over the words to build the transition matrix\n",
        "    for i in range(len(words) - chain_length):\n",
        "        key = tuple(words[i:i + chain_length])\n",
        "        value = words[i + chain_length]\n",
        "        if key in transitions:\n",
        "            transitions[key].append(value)\n",
        "        else:\n",
        "            transitions[key] = [value]\n",
        "\n",
        "    # Choose initial words\n",
        "    if start_words:\n",
        "        current_words = tuple(start_words)\n",
        "    else:\n",
        "        current_words = random.choice(list(transitions.keys()))\n",
        "\n",
        "    generated_sentence = list(current_words)\n",
        "\n",
        "    # Generate a sentence\n",
        "    for _ in range(num_generated):\n",
        "        # Choose the next word based on the current words\n",
        "        next_word = random.choice(transitions.get(current_words, ['']))\n",
        "        generated_sentence.append(next_word)\n",
        "        current_words = tuple(generated_sentence[-chain_length:])\n",
        "\n",
        "    return ' '.join(generated_sentence)\n",
        "\n",
        "\n",
        "# Example usage:\n",
        "filename = \"/content/Documentation.txt\"\n",
        "start_words = [\"The\", \"error\", \"given\", \"here\", \"why\", \"wrong\", \"check\", \"again\"]  # Provide start words here\n",
        "chain_length = 8  # Adjust chain length as needed\n",
        "num_generated = 30  # Adjust the number of words to generate\n",
        "generated_text = generate(filename, start_words, chain_length, num_generated)\n",
        "print(generated_text)"
      ]
    }
  ]
}